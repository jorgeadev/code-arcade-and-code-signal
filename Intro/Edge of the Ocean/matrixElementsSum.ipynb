{
 "cells": [
  {
   "cell_type": "markdown",
   "metadata": {},
   "source": [
    "### Método para recorrer una matríz\n",
    "\n",
    "##### After becoming famous, the CodeBots decided to move into a new building together. Each of the rooms has a different cost, and some of them are free, but there's a rumour that all the free rooms are haunted! Since the CodeBots are quite superstitious, they refuse to stay in any of the free rooms, or any of the rooms below any of the free rooms.\n",
    "\n",
    "##### Given matrix, a rectangular matrix of integers, where each value represents the cost of the room, your task is to return the total sum of all rooms that are suitable for the CodeBots (ie: add up all the values that don't appear below a 0)."
   ]
  },
  {
   "cell_type": "code",
   "execution_count": 3,
   "metadata": {},
   "outputs": [
    {
     "data": {
      "text/plain": [
       "[[0, 1, 1, 2], [0, 5, 0, 0], [2, 0, 3, 3]]"
      ]
     },
     "execution_count": 3,
     "metadata": {},
     "output_type": "execute_result"
    }
   ],
   "source": [
    "matrix = [[0,1,1,2], [0,5,0,0], [2,0,3,3]]\n",
    "matrix"
   ]
  },
  {
   "cell_type": "code",
   "execution_count": 65,
   "metadata": {},
   "outputs": [
    {
     "data": {
      "text/plain": [
       "9"
      ]
     },
     "execution_count": 65,
     "metadata": {},
     "output_type": "execute_result"
    }
   ],
   "source": [
    "def matrixElementsSum(matrix):\n",
    "    roomRents=0\n",
    "    unzip = zip(*matrix)\n",
    "    for i in unzip:\n",
    "        for j in i:\n",
    "            if(j==0):\n",
    "                break\n",
    "            else:\n",
    "                roomRents+=j\n",
    "    return roomRents\n",
    "\n",
    "matrixElementsSum(matrix)"
   ]
  },
  {
   "cell_type": "code",
   "execution_count": 64,
   "metadata": {},
   "outputs": [
    {
     "data": {
      "text/plain": [
       "9"
      ]
     },
     "execution_count": 64,
     "metadata": {},
     "output_type": "execute_result"
    }
   ],
   "source": [
    "def matrixElementsSum_3(matrix):\n",
    "    roomRents=0\n",
    "    unzip = zip(*matrix)\n",
    "    for i in unzip:\n",
    "        for j in i:\n",
    "            if(j==0):\n",
    "                break\n",
    "            else:\n",
    "                roomRents+=j\n",
    "    return roomRents\n",
    "\n",
    "matrixElementsSum_3(matrix)"
   ]
  },
  {
   "cell_type": "code",
   "execution_count": 63,
   "metadata": {},
   "outputs": [
    {
     "data": {
      "text/plain": [
       "9"
      ]
     },
     "execution_count": 63,
     "metadata": {},
     "output_type": "execute_result"
    }
   ],
   "source": [
    "def matrixElementsSum_2(matrix):\n",
    "    roomRents=0\n",
    "    unzip = zip(*matrix)\n",
    "    for i in unzip:\n",
    "        for j in i:\n",
    "            if(j==0):\n",
    "                break\n",
    "            else:\n",
    "                roomRents+=j\n",
    "    return roomRents\n",
    "\n",
    "matrixElementsSum_2(matrix)"
   ]
  },
  {
   "cell_type": "code",
   "execution_count": null,
   "metadata": {},
   "outputs": [],
   "source": []
  }
 ],
 "metadata": {
  "kernelspec": {
   "display_name": "Python 3",
   "language": "python",
   "name": "python3"
  },
  "language_info": {
   "codemirror_mode": {
    "name": "ipython",
    "version": 3
   },
   "file_extension": ".py",
   "mimetype": "text/x-python",
   "name": "python",
   "nbconvert_exporter": "python",
   "pygments_lexer": "ipython3",
   "version": "3.7.3"
  }
 },
 "nbformat": 4,
 "nbformat_minor": 2
}
