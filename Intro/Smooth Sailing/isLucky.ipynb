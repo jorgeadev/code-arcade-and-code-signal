{
 "cells": [
  {
   "cell_type": "markdown",
   "metadata": {},
   "source": [
    "### Ticket numbers usually consist of an even number of digits. A ticket number is considered lucky if the sum of the first half of the digits is equal to the sum of the second half.\n",
    "\n",
    "### Given a ticket number n, determine if it's lucky or not.\n",
    "\n",
    "#### My solution"
   ]
  },
  {
   "cell_type": "code",
   "execution_count": 41,
   "metadata": {},
   "outputs": [],
   "source": [
    "n = 134008"
   ]
  },
  {
   "cell_type": "code",
   "execution_count": 45,
   "metadata": {},
   "outputs": [
    {
     "data": {
      "text/plain": [
       "True"
      ]
     },
     "execution_count": 45,
     "metadata": {},
     "output_type": "execute_result"
    }
   ],
   "source": [
    "def isLucky(n):\n",
    "    n = str(n)\n",
    "    sum_1 = 0\n",
    "    for i in range(int((len(str(n))) // 2)):\n",
    "        sum_1 += int(n[i])\n",
    "        \n",
    "    sum_2 = 0\n",
    "    for i in range(int((len(str(n))) // 2), int(len(str(n)))):\n",
    "        sum_2 += int(n[i])\n",
    "        \n",
    "    if sum_1 == sum_2:\n",
    "        return True\n",
    "    else:\n",
    "        return False\n",
    "    \n",
    "isLucky(n)"
   ]
  },
  {
   "cell_type": "markdown",
   "metadata": {},
   "source": [
    "#### CodeSignal Page"
   ]
  },
  {
   "cell_type": "code",
   "execution_count": 43,
   "metadata": {},
   "outputs": [
    {
     "data": {
      "text/plain": [
       "True"
      ]
     },
     "execution_count": 43,
     "metadata": {},
     "output_type": "execute_result"
    }
   ],
   "source": [
    "def isLucky(n):\n",
    "    s = str(n)\n",
    "    pivot = len(s)//2\n",
    "    left, right = s[:pivot], s[pivot:]\n",
    "    return sum(map(int, left)) == sum(map(int, right))\n",
    "\n",
    "isLucky(n)"
   ]
  },
  {
   "cell_type": "code",
   "execution_count": 44,
   "metadata": {},
   "outputs": [
    {
     "data": {
      "text/plain": [
       "True"
      ]
     },
     "execution_count": 44,
     "metadata": {},
     "output_type": "execute_result"
    }
   ],
   "source": [
    "def isLucky(n):\n",
    "    return sum([int(i) for i in str(n)[:len(str(n))//2]]) == sum([int(i) for i in str(n)[len(str(n))//2:len(str(n))]])\n",
    "\n",
    "isLucky(n)"
   ]
  },
  {
   "cell_type": "code",
   "execution_count": 46,
   "metadata": {},
   "outputs": [
    {
     "data": {
      "text/plain": [
       "True"
      ]
     },
     "execution_count": 46,
     "metadata": {},
     "output_type": "execute_result"
    }
   ],
   "source": [
    "def isLucky(n):\n",
    "    s = [int(x) for x in str(n)]\n",
    "    l = int(len(s)/2)    \n",
    "    return sum(s[:l]) == sum(s[l:])\n",
    "\n",
    "isLucky(n)"
   ]
  },
  {
   "cell_type": "code",
   "execution_count": null,
   "metadata": {},
   "outputs": [],
   "source": []
  }
 ],
 "metadata": {
  "kernelspec": {
   "display_name": "Python 3",
   "language": "python",
   "name": "python3"
  },
  "language_info": {
   "codemirror_mode": {
    "name": "ipython",
    "version": 3
   },
   "file_extension": ".py",
   "mimetype": "text/x-python",
   "name": "python",
   "nbconvert_exporter": "python",
   "pygments_lexer": "ipython3",
   "version": "3.7.3"
  }
 },
 "nbformat": 4,
 "nbformat_minor": 2
}
